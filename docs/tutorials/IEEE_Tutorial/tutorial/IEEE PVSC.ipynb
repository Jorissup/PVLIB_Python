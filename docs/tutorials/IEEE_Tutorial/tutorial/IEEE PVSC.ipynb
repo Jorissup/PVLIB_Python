{
 "metadata": {
  "name": ""
 },
 "nbformat": 3,
 "nbformat_minor": 0,
 "worksheets": [
  {
   "cells": [
    {
     "cell_type": "heading",
     "level": 1,
     "metadata": {},
     "source": [
      "Python Basics"
     ]
    },
    {
     "cell_type": "heading",
     "level": 3,
     "metadata": {},
     "source": [
      "Import modules "
     ]
    },
    {
     "cell_type": "code",
     "collapsed": false,
     "input": [
      "import sys\n",
      "import os\n",
      "\n",
      "sys.path.append(os.path.abspath('../pvlib'))\n",
      "\n",
      "import pvlib \n",
      "import pandas as pd \n",
      "from datetime import datetime "
     ],
     "language": "python",
     "metadata": {},
     "outputs": [],
     "prompt_number": 87
    },
    {
     "cell_type": "heading",
     "level": 3,
     "metadata": {},
     "source": [
      "Use modules"
     ]
    },
    {
     "cell_type": "code",
     "collapsed": false,
     "input": [
      "Pressure=pvlib.pvl_alt2pres(altitude=range(100,200))\n",
      "plot(Pressure)"
     ],
     "language": "python",
     "metadata": {},
     "outputs": [
      {
       "metadata": {},
       "output_type": "pyout",
       "prompt_number": 90,
       "text": [
        "[<matplotlib.lines.Line2D at 0x1108e3f50>]"
       ]
      }
     ],
     "prompt_number": 90
    },
    {
     "cell_type": "heading",
     "level": 3,
     "metadata": {},
     "source": [
      "Use a Pandas DataFrame"
     ]
    },
    {
     "cell_type": "code",
     "collapsed": false,
     "input": [
      "TMY=pd.read_csv('Golden_mSi0251.csv',skiprows=2,index_col=0,parse_dates=True)"
     ],
     "language": "python",
     "metadata": {},
     "outputs": [],
     "prompt_number": 91
    },
    {
     "cell_type": "code",
     "collapsed": false,
     "input": [
      "#TMY.info() \n",
      "TMY['Isc (A)'].plot()"
     ],
     "language": "python",
     "metadata": {},
     "outputs": [
      {
       "metadata": {},
       "output_type": "pyout",
       "prompt_number": 95,
       "text": [
        "<matplotlib.axes.AxesSubplot at 0x10bc7a850>"
       ]
      }
     ],
     "prompt_number": 95
    },
    {
     "cell_type": "heading",
     "level": 2,
     "metadata": {},
     "source": [
      "Resample to 30 min and hourly"
     ]
    },
    {
     "cell_type": "code",
     "collapsed": false,
     "input": [
      "#perform the resampling\n",
      "TMY_10min=TMY.resample('30min',loffset='15min')\n",
      "TMY_Hr=TMY.resample('H',loffset='30min')\n",
      "\n",
      "#Show results\n",
      "print TMY_Hr.index\n",
      "print TMY.index"
     ],
     "language": "python",
     "metadata": {},
     "outputs": [
      {
       "output_type": "stream",
       "stream": "stdout",
       "text": [
        "<class 'pandas.tseries.index.DatetimeIndex'>\n",
        "[2012-08-14 06:30:00, ..., 2013-09-24 17:30:00]\n",
        "Length: 9756, Freq: H, Timezone: None\n",
        "<class 'pandas.tseries.index.DatetimeIndex'>\n",
        "[2012-08-14 06:15:16, ..., 2013-09-24 17:30:17]\n",
        "Length: 11887, Freq: None, Timezone: None\n"
       ]
      }
     ],
     "prompt_number": 96
    },
    {
     "cell_type": "code",
     "collapsed": false,
     "input": [
      "#plot the output\n",
      "figure(1)\n",
      "clf()  #clear Figure\n",
      "\n",
      "TMY['Isc (A)'].plot(label='5min')\n",
      "TMY_10min['Isc (A)'].plot(label='30min')\n",
      "TMY_Hr['Isc (A)'].plot(label='hourly')\n",
      "\n",
      "legend() #add a legend\n",
      "\n",
      "xlim(datetime(2013,3,29),datetime(2013,3,31)) #limit the output to two days"
     ],
     "language": "python",
     "metadata": {},
     "outputs": [
      {
       "metadata": {},
       "output_type": "pyout",
       "prompt_number": 97,
       "text": [
        "(734956.0, 734958.0)"
       ]
      }
     ],
     "prompt_number": 97
    },
    {
     "cell_type": "heading",
     "level": 1,
     "metadata": {},
     "source": [
      "Full system simulation"
     ]
    },
    {
     "cell_type": "code",
     "collapsed": false,
     "input": [
      "import pvl_loadmat\n",
      "\n",
      "Weather=pvl_loadmat.pvl_loadmat('WeatherData (1).mat',parsedates=True)\n",
      "System=pvl_loadmat.pvl_loadmat('SystemPerformance (1).mat')\n",
      "System.index=Weather.index\n",
      "Data=Weather.join(System,rsuffix='_sys')\n"
     ],
     "language": "python",
     "metadata": {},
     "outputs": [],
     "prompt_number": 110
    },
    {
     "cell_type": "code",
     "collapsed": false,
     "input": [
      "Data.info()"
     ],
     "language": "python",
     "metadata": {},
     "outputs": [
      {
       "output_type": "stream",
       "stream": "stdout",
       "text": [
        "<class 'pandas.core.frame.DataFrame'>\n",
        "DatetimeIndex: 5040 entries, 2008-10-20 00:00:07 to 2008-10-26 23:58:09\n",
        "Data columns (total 27 columns):\n",
        "0                   5040 non-null float64\n",
        "RefCellEeEAST       5040 non-null float64\n",
        "WindSpeed           5040 non-null float64\n",
        "Month               5040 non-null uint8\n",
        "GHI                 5040 non-null float64\n",
        "AirTemp             5040 non-null float64\n",
        "GNI                 5040 non-null float64\n",
        "Seconds             5040 non-null uint8\n",
        "Hours               5040 non-null uint8\n",
        "Pressure            5040 non-null float64\n",
        "RefCellEeWEST       5040 non-null float64\n",
        "RelativeHumidity    5040 non-null float64\n",
        "DHI                 5040 non-null float64\n",
        "RMBTime             5040 non-null float64\n",
        "DNI                 5040 non-null float64\n",
        "Days                5040 non-null uint16\n",
        "Minutes             5040 non-null uint8\n",
        "Year                5040 non-null uint16\n",
        "POA                 5040 non-null float64\n",
        "WindDirection       5040 non-null float64\n",
        "0_sys               5040 non-null float64\n",
        "ACVoltage           5040 non-null float64\n",
        "ACPower             5040 non-null float64\n",
        "DCVoltage           5040 non-null float64\n",
        "DCCurrent           5040 non-null float64\n",
        "ArrayTemp           5040 non-null float64\n",
        "ACCurrent           5040 non-null float64\n",
        "dtypes: float64(21), uint16(2), uint8(4)"
       ]
      }
     ],
     "prompt_number": 111
    },
    {
     "cell_type": "heading",
     "level": 2,
     "metadata": {},
     "source": [
      "Define site metadata and module parameters"
     ]
    },
    {
     "cell_type": "code",
     "collapsed": false,
     "input": [
      "Moddb=pvlib.pvl_retreiveSAM(name='SandiaMod')\n",
      "Module=Moddb.SolarFun_SF220_30_P220___2010_"
     ],
     "language": "python",
     "metadata": {},
     "outputs": [],
     "prompt_number": 101
    },
    {
     "cell_type": "code",
     "collapsed": false,
     "input": [
      "Invdb=pvlib.pvl_retreiveSAM(name='SandiaInverter')\n",
      "inverter=Invdb.SMA_America__SB3000TL_US_22__208V__208V__CEC_2013_\n"
     ],
     "language": "python",
     "metadata": {},
     "outputs": [],
     "prompt_number": 112
    },
    {
     "cell_type": "code",
     "collapsed": false,
     "input": [
      "meta={'aziumth':0,\n",
      "      'tilt':35,\n",
      "      'parallelStrings':1,\n",
      "      'seriesModules':5,\n",
      "      'latitude':35.05,\n",
      "      'longitude':-106.54,\n",
      "      'TZ':-7,\n",
      "      'albedo':.2}\n",
      "\n",
      "meta=pvlib.pvl_tools.repack(meta)\n",
      "      "
     ],
     "language": "python",
     "metadata": {},
     "outputs": [],
     "prompt_number": 113
    },
    {
     "cell_type": "heading",
     "level": 1,
     "metadata": {},
     "source": [
      "Processing"
     ]
    },
    {
     "cell_type": "code",
     "collapsed": false,
     "input": [
      "Data['SunAz'],Data['SunEl'],Data['ApparentSunEl'],Data['SolarTime'], Data['SunZen']=pvlib.pvl_ephemeris(Time=Data.index,Location=meta)\n",
      "\n",
      "Data['HExtra']=pvlib.pvl_extraradiation(doy=Data.index.dayofyear)\n",
      "\n",
      "Data['AM']=pvlib.pvl_relativeairmass(z=Data.SunZen)\n",
      "\n",
      "Data['AOI']=pvlib.pvl_getaoi(SunAz=Data.SunAz,SunZen=Data.SunZen,SurfTilt=meta.tilt,SurfAz=meta.aziumth)\n",
      "\n",
      "\n",
      "Data['In_Plane_SkyDiffuse']=pvlib.pvl_perez(SurfTilt=meta.tilt, #Problems with repeated minutes in the data!\n",
      "                                            SurfAz=meta.aziumth,\n",
      "                                            DHI=Data['DHI'],\n",
      "                                            DNI=Data['DNI'],\n",
      "                                            HExtra=Data.HExtra,\n",
      "                                            SunZen=Data.SunZen,\n",
      "                                            SunAz=Data.SunAz,\n",
      "                                            AM=Data.AM)\n",
      "\n",
      "Data['GR']=pvlib.pvl_grounddiffuse(GHI=Data['GHI'],Albedo=meta.albedo,SurfTilt=meta.tilt)\n",
      "\n",
      "Data['E'],Data['Eb'],Data['EDiff']=pvlib.pvl_globalinplane(AOI=Data.AOI,\n",
      "                                DNI=Data['DNI'],\n",
      "                                In_Plane_SkyDiffuse=Data.In_Plane_SkyDiffuse,\n",
      "                                GR=Data.GR,\n",
      "                                SurfTilt=meta.tilt,\n",
      "                                SurfAz=meta.aziumth)\n",
      "\n",
      "Data['Tcell'],Data['Tmodule']=pvlib.pvl_sapmcelltemp(E=Data.E,\n",
      "                            Wspd=Data.WindSpeed,\n",
      "                            Tamb=Data['AirTemp'],\n",
      "                            modelt='Open_rack_cell_polymerback')\n",
      "\n",
      "Eb=Data.DNI*cos(np.radians(Data.AOI))\n",
      "Ediff=Data.POA-Eb\n",
      "DFOut=pvlib.pvl_sapm(Eb=Eb,\n",
      "                    Ediff=Ediff,\n",
      "                    Tcell=Data['Tcell'],\n",
      "                    AM=Data['AM'],\n",
      "                    AOI=Data['AOI'],\n",
      "                    Module=module)\n",
      "\n",
      "\n",
      "Data['Imp']=DFOut['Imp']*meta.parallelStrings\n",
      "Data['Voc']=DFOut['Voc']\n",
      "Data['Vmp']=DFOut['Vmp']*meta.seriesModules\n",
      "Data['Pmp']=Data.Imp*Data.Vmp\n",
      "Data['Ix']=DFOut['Ix']\n",
      "Data['Ixx']=DFOut['Ixx']\n",
      "\n",
      "Data['ACPower_modelled']=pvlib.pvl_snlinverter(Vmp=Data.Vmp,Pmp=Data.Pmp,Inverter=inverter)\n",
      "\n",
      "\n"
     ],
     "language": "python",
     "metadata": {},
     "outputs": [],
     "prompt_number": 114
    },
    {
     "cell_type": "heading",
     "level": 3,
     "metadata": {},
     "source": [
      "Investigate Cell Temperature"
     ]
    },
    {
     "cell_type": "code",
     "collapsed": false,
     "input": [
      "\n",
      "clf()\n",
      "plot(Data.index,Data.Tmodule,label='Calculated Temp')\n",
      "plot(Data.index,Data.ArrayTemp,label='Actual Temp')\n",
      "legend()\n"
     ],
     "language": "python",
     "metadata": {},
     "outputs": [
      {
       "metadata": {},
       "output_type": "pyout",
       "prompt_number": 123,
       "text": [
        "<matplotlib.legend.Legend at 0x11085d750>"
       ]
      }
     ],
     "prompt_number": 123
    },
    {
     "cell_type": "heading",
     "level": 2,
     "metadata": {},
     "source": [
      "Plot Outputs"
     ]
    },
    {
     "cell_type": "code",
     "collapsed": false,
     "input": [
      "clf()\n",
      "plot(Data.index,Data.Pmp,label='Modelled DC Power')\n",
      "plot(Data.index,Data.DCVoltage*Data.DCCurrent, label='Measured DC power')\n",
      "plot(Data.index,Data.ACPower,label='Measured AC Power')\n",
      "plot(Data.index,Data.ACPower_modelled,label='Modelled AC Power')\n",
      "legend()"
     ],
     "language": "python",
     "metadata": {},
     "outputs": [
      {
       "metadata": {},
       "output_type": "pyout",
       "prompt_number": 124,
       "text": [
        "<matplotlib.legend.Legend at 0x110db51d0>"
       ]
      }
     ],
     "prompt_number": 124
    },
    {
     "cell_type": "code",
     "collapsed": false,
     "input": [
      "clf()\n",
      "plot(Data.index,Data.Vmp,'--r')\n",
      "plot(Data.index,Data.DCVoltage,'--k')\n",
      "xlabel('Time')\n",
      "ylabel('Voltage')\n",
      "twinx()\n",
      "plot(Data.index,Data.Imp,'r')\n",
      "plot(Data.index,Data.DCCurrent,'k')\n",
      "ylabel('Current')\n",
      "legend(('Modelled','Measured'))"
     ],
     "language": "python",
     "metadata": {},
     "outputs": [
      {
       "metadata": {},
       "output_type": "pyout",
       "prompt_number": 125,
       "text": [
        "<matplotlib.legend.Legend at 0x110e62410>"
       ]
      }
     ],
     "prompt_number": 125
    },
    {
     "cell_type": "heading",
     "level": 2,
     "metadata": {},
     "source": [
      "Investigate the relative difference in Power output as a function of AM and AOI "
     ]
    },
    {
     "cell_type": "code",
     "collapsed": false,
     "input": [
      "Relative_difference=(Data.Pmp-Data.DCVoltage*Data.DCCurrent)/(Data.DCVoltage*Data.DCCurrent)\n",
      "clf()\n",
      "scatter(Data.AOI,Relative_difference,c=Data.AM)\n",
      "cb=colorbar()\n",
      "ylim([-.5,.5])\n",
      "xlim([0,90])\n",
      "xlabel('AOI')\n",
      "ylabel('Normalized Error')\n",
      "cb.set_label('AM')"
     ],
     "language": "python",
     "metadata": {},
     "outputs": [],
     "prompt_number": 126
    },
    {
     "cell_type": "code",
     "collapsed": false,
     "input": [],
     "language": "python",
     "metadata": {},
     "outputs": []
    }
   ],
   "metadata": {}
  }
 ]
}