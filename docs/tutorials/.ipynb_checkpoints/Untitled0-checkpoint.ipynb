{
 "metadata": {
  "name": "",
  "signature": "sha256:1cc43d31a79a5f46b5fa76fbae52eee14014b7fe51389a95afed0144242598bd"
 },
 "nbformat": 3,
 "nbformat_minor": 0,
 "worksheets": []
}