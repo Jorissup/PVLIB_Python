{
 "metadata": {
  "name": ""
 },
 "nbformat": 3,
 "nbformat_minor": 0,
 "worksheets": [
  {
   "cells": [
    {
     "cell_type": "code",
     "collapsed": false,
     "input": [
      "import os\n",
      "import sys\n",
      "sys.path.append(os.path.abspath('../../../'))\n",
      "import pvl_disc"
     ],
     "language": "python",
     "metadata": {},
     "outputs": [],
     "prompt_number": 3
    },
    {
     "cell_type": "code",
     "collapsed": false,
     "input": [
      "fname=os.path.abspath('../../../')+'/723650TY.csv'\n",
      "x=1\n",
      "print x\n"
     ],
     "language": "python",
     "metadata": {},
     "outputs": [
      {
       "output_type": "stream",
       "stream": "stdout",
       "text": [
        "1\n"
       ]
      }
     ],
     "prompt_number": 13
    },
    {
     "cell_type": "heading",
     "level": 1,
     "metadata": {},
     "source": [
      "Import TMY data"
     ]
    },
    {
     "cell_type": "heading",
     "level": 2,
     "metadata": {},
     "source": [
      "Use Sandia standard data "
     ]
    },
    {
     "cell_type": "code",
     "collapsed": false,
     "input": [
      "'''\n",
      "import pvl_tools\n",
      "import pvl_readtmy3 as tmy3\n",
      "reload(tmy3)\n",
      "\n",
      "TMY, meta=tmy3.pvl_readtmy3(FileName=fname)\n",
      "'''"
     ],
     "language": "python",
     "metadata": {},
     "outputs": [
      {
       "metadata": {},
       "output_type": "pyout",
       "prompt_number": 9,
       "text": [
        "'\\nimport pvl_readtmy3 as tmy3\\nreload(tmy3)\\n\\nTMY, meta=tmy3.pvl_readtmy3(FileName=fname)\\n'"
       ]
      }
     ],
     "prompt_number": 9
    },
    {
     "cell_type": "code",
     "collapsed": false,
     "input": [
      "'''\n",
      "meta.SurfTilt=30\n",
      "meta.SurfAz=0\n",
      "meta.Albedo=0.2\n",
      "'''"
     ],
     "language": "python",
     "metadata": {},
     "outputs": [],
     "prompt_number": 6
    },
    {
     "cell_type": "heading",
     "level": 1,
     "metadata": {},
     "source": [
      "Get solar angles"
     ]
    },
    {
     "cell_type": "code",
     "collapsed": false,
     "input": [
      "'''\n",
      "import pvl_ephemeris as eph\n",
      "reload(eph)\n",
      "DFOut=eph.pvl_ephemeris(Time=TMY.index,Location=meta)\n",
      "\n",
      "TMY['SunEl']=DFOut['SunEl']\n",
      "TMY['SunAz']=DFOut['SunAz']\n",
      "TMY['SunZen']=DFOut['SunZen']\n",
      "TMY['ApparentSunEl']=DFOut['ApparentSunEl']\n",
      "TMY['SolarTime']=DFOut['SolarTime']\n",
      "'''"
     ],
     "language": "python",
     "metadata": {},
     "outputs": [],
     "prompt_number": 7
    },
    {
     "cell_type": "heading",
     "level": 1,
     "metadata": {},
     "source": [
      "Calculate Extraterrestrial Irradiaion and AirMass"
     ]
    },
    {
     "cell_type": "code",
     "collapsed": false,
     "input": [
      "'''\n",
      "import pvl_extraradiation as ext\n",
      "reload(ext)\n",
      "TMY['HExtra']=ext.pvl_extraradiation(doy=TMY.index.dayofyear)\n",
      "\n",
      "import pvl_relativeairmass as AM\n",
      "reload(AM)\n",
      "TMY['AM']=AM.pvl_relativeairmass(z=TMY.SunZen)\n",
      "'''"
     ],
     "language": "python",
     "metadata": {},
     "outputs": [],
     "prompt_number": 8
    },
    {
     "cell_type": "heading",
     "level": 1,
     "metadata": {},
     "source": [
      "Generate Clear Sky and DNI"
     ]
    },
    {
     "cell_type": "code",
     "collapsed": false,
     "input": [
      "'''\n",
      "import pvl_disc as disc\n",
      "reload(disc)\n",
      "DFOut=disc.pvl_disc(Time=TMY.index,GHI=TMY.GHI, SunZen=TMY.SunZen)\n",
      "\n",
      "TMY['DNI_gen_DISC']=DFOut['DNI_gen_DISC']\n",
      "TMY['Kt_gen_DISC']=DFOut['Kt_gen_DISC']\n",
      "TMY['AM']=DFOut['AM']\n",
      "TMY['Ztemp']=DFOut['Ztemp']\n",
      "'''"
     ],
     "language": "python",
     "metadata": {},
     "outputs": [],
     "prompt_number": 9
    },
    {
     "cell_type": "heading",
     "level": 1,
     "metadata": {},
     "source": [
      "Plane Transformation"
     ]
    },
    {
     "cell_type": "code",
     "collapsed": false,
     "input": [
      "'''\n",
      "import pvl_perez as perez\n",
      "reload(perez)\n",
      "TMY['In_Plane_SkyDiffuse']=perez.pvl_perez(SurfTilt=meta.SurfTilt,\n",
      "                                            SurfAz=meta.SurfAz,\n",
      "                                            DHI=TMY.DHI,\n",
      "                                            DNI=TMY.DNI,\n",
      "                                            HExtra=TMY.HExtra,\n",
      "                                            SunZen=TMY.SunZen,\n",
      "                                            SunAz=TMY.SunAz,\n",
      "                                            AM=TMY.AM)\n",
      "'''"
     ],
     "language": "python",
     "metadata": {},
     "outputs": [],
     "prompt_number": 10
    },
    {
     "cell_type": "heading",
     "level": 1,
     "metadata": {},
     "source": [
      "Ground Diffuse reflection"
     ]
    },
    {
     "cell_type": "code",
     "collapsed": false,
     "input": [
      "'''\n",
      "import pvl_grounddiffuse as diff\n",
      "reload(diff)\n",
      "TMY['GR']=diff.pvl_grounddiffuse(GHI=TMY.GHI,Albedo=meta.Albedo,SurfTilt=meta.SurfTilt)\n",
      "'''"
     ],
     "language": "python",
     "metadata": {},
     "outputs": [],
     "prompt_number": 11
    },
    {
     "cell_type": "heading",
     "level": 1,
     "metadata": {},
     "source": [
      "Get AOI"
     ]
    },
    {
     "cell_type": "code",
     "collapsed": false,
     "input": [
      "'''\n",
      "import pvl_getaoi as aoi\n",
      "reload(aoi)\n",
      "TMY['AOI']=aoi.pvl_getaoi(SunAz=TMY.SunAz,SunZen=TMY.SunZen,SurfTilt=meta.SurfTilt,SurfAz=meta.SurfAz)\n",
      "'''"
     ],
     "language": "python",
     "metadata": {},
     "outputs": [],
     "prompt_number": 12
    },
    {
     "cell_type": "heading",
     "level": 1,
     "metadata": {},
     "source": [
      "Calculate Global in-plane"
     ]
    },
    {
     "cell_type": "code",
     "collapsed": false,
     "input": [
      "'''\n",
      "import pvl_globalinplane as globalirr\n",
      "reload(globalirr)\n",
      "TMY['E'],TMY['Eb'],TMY['EDiff']=globalirr.pvl_globalinplane(AOI=TMY.AOI,\n",
      "                                DNI=TMY.DNI,\n",
      "                                In_Plane_SkyDiffuse=TMY.In_Plane_SkyDiffuse,\n",
      "                                GR=TMY.GR,\n",
      "                                SurfTilt=meta.SurfTilt,\n",
      "                                SurfAz=meta.SurfAz)\n",
      "\n",
      "'''"
     ],
     "language": "python",
     "metadata": {},
     "outputs": [],
     "prompt_number": 13
    },
    {
     "cell_type": "heading",
     "level": 1,
     "metadata": {},
     "source": [
      "Calculate Cell Temperature"
     ]
    },
    {
     "cell_type": "code",
     "collapsed": false,
     "input": [
      "'''\n",
      "import pvl_sapmcelltemp as temp\n",
      "reload(temp)\n",
      "TMY['Tcell'],TMY['Tmodule']=temp.pvl_sapmcelltemp(E=TMY.E,\n",
      "                            Wspd=TMY.Wspd,\n",
      "                            Tamb=TMY.DryBulb)\n",
      "\n",
      "'''\n",
      "\n"
     ],
     "language": "python",
     "metadata": {},
     "outputs": [],
     "prompt_number": 14
    },
    {
     "cell_type": "heading",
     "level": 1,
     "metadata": {},
     "source": [
      "Import module coefficients"
     ]
    },
    {
     "cell_type": "code",
     "collapsed": false,
     "input": [
      "'''\n",
      "import pvl_retreiveSAM as SAM\n",
      "reload(SAM)\n",
      "moddb=SAM.pvl_retreiveSAM(name='SandiaMod')\n",
      "module=moddb.Solar_World_SW175_Mono_Sun_Module___2009_\n",
      "module\n",
      "\n",
      "'''"
     ],
     "language": "python",
     "metadata": {},
     "outputs": [
      {
       "metadata": {},
       "output_type": "pyout",
       "prompt_number": 15,
       "text": [
        "Vintage                                                   2009\n",
        "Area                                                     1.286\n",
        "Material                                                  c-Si\n",
        "#Series                                                     72\n",
        "#Parallel                                                    1\n",
        "Isco                                                     5.143\n",
        "Voco                                                    44.623\n",
        "Impo                                                     4.805\n",
        "Vmpo                                                    36.071\n",
        "Aisc                                                  0.000624\n",
        "Aimp                                                  -2.7e-05\n",
        "C0                                                      1.0016\n",
        "C1                                                     -0.0016\n",
        "Bvoco                                                  -0.1646\n",
        "Mbvoc                                                        0\n",
        "Bvmpo                                                  -0.1722\n",
        "Mbvmp                                                        0\n",
        "N                                                        1.274\n",
        "C2                                                    0.236148\n",
        "C3                                                    -4.62278\n",
        "A0                                                      0.9543\n",
        "A1                                                     0.03574\n",
        "A2                                                   -0.003519\n",
        "A3                                                  -5.592e-05\n",
        "A4                                                   1.569e-05\n",
        "B0                                                           1\n",
        "B1                                                   -0.002438\n",
        "B2                                                   0.0003103\n",
        "B3                                                  -1.246e-05\n",
        "B4                                                   2.112e-07\n",
        "B5                                                  -1.359e-09\n",
        "DTC                                                          3\n",
        "FD                                                           1\n",
        "A                                                       -3.319\n",
        "B                                                     -0.09116\n",
        "C4                                                      0.9908\n",
        "C5                                                      0.0092\n",
        "IXO                                                     5.1494\n",
        "IXXO                                                    3.4661\n",
        "C6                                                      1.1233\n",
        "C7                                                     -0.1233\n",
        "Notes        Source: Sandia National Laboratories Updated 9...\n",
        "Name: Solar_World_SW175_Mono_Sun_Module___2009_, dtype: object"
       ]
      }
     ],
     "prompt_number": 15
    },
    {
     "cell_type": "heading",
     "level": 1,
     "metadata": {},
     "source": [
      "\n",
      "import inverter coefficients"
     ]
    },
    {
     "cell_type": "code",
     "collapsed": false,
     "input": [
      "'''\n",
      "Invdb=SAM.pvl_retreiveSAM(name='SandiaInverter')\n",
      "inverter=Invdb.AE_Solar_Energy__AE6_0__277V__277V__CEC_2012_\n",
      "inverter\n",
      "'''"
     ],
     "language": "python",
     "metadata": {},
     "outputs": [
      {
       "metadata": {},
       "output_type": "pyout",
       "prompt_number": 16,
       "text": [
        "Vac           277.000000\n",
        "Paco         6000.000000\n",
        "Pdco         6165.670000\n",
        "Vdco          361.123000\n",
        "Pso            36.792300\n",
        "C0             -0.000002\n",
        "C1             -0.000047\n",
        "C2             -0.001861\n",
        "C3              0.000721\n",
        "Pnt             0.070000\n",
        "Vdcmax        600.000000\n",
        "Idcmax         32.000000\n",
        "Mppt_low      200.000000\n",
        "Mppt_high     500.000000\n",
        "Name: AE_Solar_Energy__AE6_0__277V__277V__CEC_2012_, dtype: float64"
       ]
      }
     ],
     "prompt_number": 16
    },
    {
     "cell_type": "code",
     "collapsed": false,
     "input": [
      "'''\n",
      "import pvl_retreiveSAM as SAM\n",
      "reload(SAM)\n",
      "Invdb=SAM.pvl_retreiveSAM(name='SandiaInverter')\n",
      "'''"
     ],
     "language": "python",
     "metadata": {},
     "outputs": [],
     "prompt_number": 17
    },
    {
     "cell_type": "heading",
     "level": 1,
     "metadata": {},
     "source": [
      "Sandia Model"
     ]
    },
    {
     "cell_type": "code",
     "collapsed": false,
     "input": [
      "'''\n",
      "import pvl_sapm as sapm\n",
      "reload(sapm)\n",
      "DFOut=sapm.pvl_sapm(Eb=TMY['Eb'],\n",
      "                    Ediff=TMY['EDiff'],\n",
      "                    Tcell=TMY['Tcell'],\n",
      "                    AM=TMY['AM'],\n",
      "                    AOI=TMY['AOI'],\n",
      "                    Module=module)\n",
      "\n",
      "TMY['Imp']=DFOut['Imp']\n",
      "TMY['Voc']=DFOut['Voc']\n",
      "TMY['Vmp']=DFOut['Vmp']\n",
      "TMY['Pmp']=DFOut['Pmp']\n",
      "TMY['Ix']=DFOut['Ix']\n",
      "TMY['Ixx']=DFOut['Ixx']\n",
      "'''"
     ],
     "language": "python",
     "metadata": {},
     "outputs": [],
     "prompt_number": 18
    },
    {
     "cell_type": "heading",
     "level": 1,
     "metadata": {},
     "source": [
      "Single Diode Model"
     ]
    },
    {
     "cell_type": "code",
     "collapsed": false,
     "input": [
      "'''\n",
      "import time\n",
      "moddb=SAM.pvl_retreiveSAM(name='CECMod')\n",
      "module=moddb.Canadian_Solar_CS5P_220P\n",
      "import pvl_calcparams_desoto as calc\n",
      "reload(calc)\n",
      "IL,I0,Rs,Rsh,nNsVth=calc.pvl_calcparams_desoto(S=TMY.GHI,\n",
      "                                               Tcell=TMY.DryBulb,\n",
      "                                               alpha_isc=.003,\n",
      "                                               ModuleParameters=module,\n",
      "                                               EgRef=1.121,\n",
      "                                               dEgdT= -0.0002677)\n",
      "import pvl_singlediode as sd\n",
      "reload(sd)\n",
      "\n",
      "DFout= sd.pvl_singlediode(Module=module,\n",
      "                               IL=IL,\n",
      "                               I0=I0,\n",
      "                               Rs=Rs,\n",
      "                               Rsh=Rsh,\n",
      "                               nNsVth=nNsVth)\n",
      "\n",
      "\n",
      "TMY['sd_Imp']=DFOut['Imp']\n",
      "TMY['sd_Voc']=DFOut['Voc']\n",
      "TMY['sd_Vmp']=DFOut['Vmp']\n",
      "TMY['sd_Pmp']=DFOut['Pmp']\n",
      "TMY['sd_Ix']=DFOut['Ix']\n",
      "TMY['sd_Ixx']=DFOut['Ixx']           \n",
      "'''"
     ],
     "language": "python",
     "metadata": {},
     "outputs": [],
     "prompt_number": 19
    },
    {
     "cell_type": "heading",
     "level": 1,
     "metadata": {},
     "source": [
      "Inverter Model"
     ]
    },
    {
     "cell_type": "code",
     "collapsed": false,
     "input": [
      "'''\n",
      "import pvl_snlinverter as invmod\n",
      "reload(invmod)\n",
      "TMY['ACPower']=invmod.pvl_snlinverter(Vmp=TMY.Vmp,Pmp=TMY.Pmp,Inverter=inverter)\n",
      "'''\n"
     ],
     "language": "python",
     "metadata": {},
     "outputs": [],
     "prompt_number": 20
    }
   ],
   "metadata": {}
  }
 ]
}